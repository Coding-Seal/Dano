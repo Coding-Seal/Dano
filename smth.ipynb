import numpy as np
import plotly.express as px
import pandas as pd

data = pd.read_csv('tink.csv')

customers = data[["customer_id", "category","transaction_amt"]].groupby("customer_id")

print(customers)